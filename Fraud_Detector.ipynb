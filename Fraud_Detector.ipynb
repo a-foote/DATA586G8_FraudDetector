{
  "nbformat": 4,
  "nbformat_minor": 0,
  "metadata": {
    "colab": {
      "provenance": [],
      "authorship_tag": "ABX9TyMBICotpl0/zLBtbOh1LyLz",
      "include_colab_link": true
    },
    "kernelspec": {
      "name": "python3",
      "display_name": "Python 3"
    },
    "language_info": {
      "name": "python"
    }
  },
  "cells": [
    {
      "cell_type": "markdown",
      "metadata": {
        "id": "view-in-github",
        "colab_type": "text"
      },
      "source": [
        "<a href=\"https://colab.research.google.com/github/a-foote/DATA586G8_FraudDetector/blob/alyssa/Fraud_Detector.ipynb\" target=\"_parent\"><img src=\"https://colab.research.google.com/assets/colab-badge.svg\" alt=\"Open In Colab\"/></a>"
      ]
    },
    {
      "cell_type": "code",
      "execution_count": 1,
      "metadata": {
        "id": "g69WImS7tAlR"
      },
      "outputs": [],
      "source": [
        "import pandas as pd\n",
        "import seaborn as sns\n",
        "import numpy as np\n",
        "import matplotlib.pyplot as plt\n",
        "from sklearn.preprocessing import RobustScaler\n",
        "from sklearn.model_selection import train_test_split\n",
        "from imblearn.over_sampling import SMOTE\n",
        "from sklearn.feature_selection import GenericUnivariateSelect, mutual_info_classif\n",
        "\n",
        "\n",
        "RANDOM_SEED = 123"
      ]
    },
    {
      "cell_type": "code",
      "source": [
        "#read data and review spread of data\n",
        "df = pd.read_csv('creditcard.csv')\n",
        "df.describe()"
      ],
      "metadata": {
        "id": "ecwqNLiFQEYS",
        "outputId": "a65b0ab5-b09e-4ad3-f486-41681d337b8f",
        "colab": {
          "base_uri": "https://localhost:8080/",
          "height": 393
        }
      },
      "execution_count": 2,
      "outputs": [
        {
          "output_type": "execute_result",
          "data": {
            "text/plain": [
              "                Time            V1            V2            V3            V4  \\\n",
              "count  284807.000000  2.848070e+05  2.848070e+05  2.848070e+05  2.848070e+05   \n",
              "mean    94813.859575  1.168375e-15  3.416908e-16 -1.379537e-15  2.074095e-15   \n",
              "std     47488.145955  1.958696e+00  1.651309e+00  1.516255e+00  1.415869e+00   \n",
              "min         0.000000 -5.640751e+01 -7.271573e+01 -4.832559e+01 -5.683171e+00   \n",
              "25%     54201.500000 -9.203734e-01 -5.985499e-01 -8.903648e-01 -8.486401e-01   \n",
              "50%     84692.000000  1.810880e-02  6.548556e-02  1.798463e-01 -1.984653e-02   \n",
              "75%    139320.500000  1.315642e+00  8.037239e-01  1.027196e+00  7.433413e-01   \n",
              "max    172792.000000  2.454930e+00  2.205773e+01  9.382558e+00  1.687534e+01   \n",
              "\n",
              "                 V5            V6            V7            V8            V9  \\\n",
              "count  2.848070e+05  2.848070e+05  2.848070e+05  2.848070e+05  2.848070e+05   \n",
              "mean   9.604066e-16  1.487313e-15 -5.556467e-16  1.213481e-16 -2.406331e-15   \n",
              "std    1.380247e+00  1.332271e+00  1.237094e+00  1.194353e+00  1.098632e+00   \n",
              "min   -1.137433e+02 -2.616051e+01 -4.355724e+01 -7.321672e+01 -1.343407e+01   \n",
              "25%   -6.915971e-01 -7.682956e-01 -5.540759e-01 -2.086297e-01 -6.430976e-01   \n",
              "50%   -5.433583e-02 -2.741871e-01  4.010308e-02  2.235804e-02 -5.142873e-02   \n",
              "75%    6.119264e-01  3.985649e-01  5.704361e-01  3.273459e-01  5.971390e-01   \n",
              "max    3.480167e+01  7.330163e+01  1.205895e+02  2.000721e+01  1.559499e+01   \n",
              "\n",
              "       ...           V21           V22           V23           V24  \\\n",
              "count  ...  2.848070e+05  2.848070e+05  2.848070e+05  2.848070e+05   \n",
              "mean   ...  1.654067e-16 -3.568593e-16  2.578648e-16  4.473266e-15   \n",
              "std    ...  7.345240e-01  7.257016e-01  6.244603e-01  6.056471e-01   \n",
              "min    ... -3.483038e+01 -1.093314e+01 -4.480774e+01 -2.836627e+00   \n",
              "25%    ... -2.283949e-01 -5.423504e-01 -1.618463e-01 -3.545861e-01   \n",
              "50%    ... -2.945017e-02  6.781943e-03 -1.119293e-02  4.097606e-02   \n",
              "75%    ...  1.863772e-01  5.285536e-01  1.476421e-01  4.395266e-01   \n",
              "max    ...  2.720284e+01  1.050309e+01  2.252841e+01  4.584549e+00   \n",
              "\n",
              "                V25           V26           V27           V28         Amount  \\\n",
              "count  2.848070e+05  2.848070e+05  2.848070e+05  2.848070e+05  284807.000000   \n",
              "mean   5.340915e-16  1.683437e-15 -3.660091e-16 -1.227390e-16      88.349619   \n",
              "std    5.212781e-01  4.822270e-01  4.036325e-01  3.300833e-01     250.120109   \n",
              "min   -1.029540e+01 -2.604551e+00 -2.256568e+01 -1.543008e+01       0.000000   \n",
              "25%   -3.171451e-01 -3.269839e-01 -7.083953e-02 -5.295979e-02       5.600000   \n",
              "50%    1.659350e-02 -5.213911e-02  1.342146e-03  1.124383e-02      22.000000   \n",
              "75%    3.507156e-01  2.409522e-01  9.104512e-02  7.827995e-02      77.165000   \n",
              "max    7.519589e+00  3.517346e+00  3.161220e+01  3.384781e+01   25691.160000   \n",
              "\n",
              "               Class  \n",
              "count  284807.000000  \n",
              "mean        0.001727  \n",
              "std         0.041527  \n",
              "min         0.000000  \n",
              "25%         0.000000  \n",
              "50%         0.000000  \n",
              "75%         0.000000  \n",
              "max         1.000000  \n",
              "\n",
              "[8 rows x 31 columns]"
            ],
            "text/html": [
              "\n",
              "  <div id=\"df-dd521cf6-c1a2-4f12-840c-8ef301d26e32\">\n",
              "    <div class=\"colab-df-container\">\n",
              "      <div>\n",
              "<style scoped>\n",
              "    .dataframe tbody tr th:only-of-type {\n",
              "        vertical-align: middle;\n",
              "    }\n",
              "\n",
              "    .dataframe tbody tr th {\n",
              "        vertical-align: top;\n",
              "    }\n",
              "\n",
              "    .dataframe thead th {\n",
              "        text-align: right;\n",
              "    }\n",
              "</style>\n",
              "<table border=\"1\" class=\"dataframe\">\n",
              "  <thead>\n",
              "    <tr style=\"text-align: right;\">\n",
              "      <th></th>\n",
              "      <th>Time</th>\n",
              "      <th>V1</th>\n",
              "      <th>V2</th>\n",
              "      <th>V3</th>\n",
              "      <th>V4</th>\n",
              "      <th>V5</th>\n",
              "      <th>V6</th>\n",
              "      <th>V7</th>\n",
              "      <th>V8</th>\n",
              "      <th>V9</th>\n",
              "      <th>...</th>\n",
              "      <th>V21</th>\n",
              "      <th>V22</th>\n",
              "      <th>V23</th>\n",
              "      <th>V24</th>\n",
              "      <th>V25</th>\n",
              "      <th>V26</th>\n",
              "      <th>V27</th>\n",
              "      <th>V28</th>\n",
              "      <th>Amount</th>\n",
              "      <th>Class</th>\n",
              "    </tr>\n",
              "  </thead>\n",
              "  <tbody>\n",
              "    <tr>\n",
              "      <th>count</th>\n",
              "      <td>284807.000000</td>\n",
              "      <td>2.848070e+05</td>\n",
              "      <td>2.848070e+05</td>\n",
              "      <td>2.848070e+05</td>\n",
              "      <td>2.848070e+05</td>\n",
              "      <td>2.848070e+05</td>\n",
              "      <td>2.848070e+05</td>\n",
              "      <td>2.848070e+05</td>\n",
              "      <td>2.848070e+05</td>\n",
              "      <td>2.848070e+05</td>\n",
              "      <td>...</td>\n",
              "      <td>2.848070e+05</td>\n",
              "      <td>2.848070e+05</td>\n",
              "      <td>2.848070e+05</td>\n",
              "      <td>2.848070e+05</td>\n",
              "      <td>2.848070e+05</td>\n",
              "      <td>2.848070e+05</td>\n",
              "      <td>2.848070e+05</td>\n",
              "      <td>2.848070e+05</td>\n",
              "      <td>284807.000000</td>\n",
              "      <td>284807.000000</td>\n",
              "    </tr>\n",
              "    <tr>\n",
              "      <th>mean</th>\n",
              "      <td>94813.859575</td>\n",
              "      <td>1.168375e-15</td>\n",
              "      <td>3.416908e-16</td>\n",
              "      <td>-1.379537e-15</td>\n",
              "      <td>2.074095e-15</td>\n",
              "      <td>9.604066e-16</td>\n",
              "      <td>1.487313e-15</td>\n",
              "      <td>-5.556467e-16</td>\n",
              "      <td>1.213481e-16</td>\n",
              "      <td>-2.406331e-15</td>\n",
              "      <td>...</td>\n",
              "      <td>1.654067e-16</td>\n",
              "      <td>-3.568593e-16</td>\n",
              "      <td>2.578648e-16</td>\n",
              "      <td>4.473266e-15</td>\n",
              "      <td>5.340915e-16</td>\n",
              "      <td>1.683437e-15</td>\n",
              "      <td>-3.660091e-16</td>\n",
              "      <td>-1.227390e-16</td>\n",
              "      <td>88.349619</td>\n",
              "      <td>0.001727</td>\n",
              "    </tr>\n",
              "    <tr>\n",
              "      <th>std</th>\n",
              "      <td>47488.145955</td>\n",
              "      <td>1.958696e+00</td>\n",
              "      <td>1.651309e+00</td>\n",
              "      <td>1.516255e+00</td>\n",
              "      <td>1.415869e+00</td>\n",
              "      <td>1.380247e+00</td>\n",
              "      <td>1.332271e+00</td>\n",
              "      <td>1.237094e+00</td>\n",
              "      <td>1.194353e+00</td>\n",
              "      <td>1.098632e+00</td>\n",
              "      <td>...</td>\n",
              "      <td>7.345240e-01</td>\n",
              "      <td>7.257016e-01</td>\n",
              "      <td>6.244603e-01</td>\n",
              "      <td>6.056471e-01</td>\n",
              "      <td>5.212781e-01</td>\n",
              "      <td>4.822270e-01</td>\n",
              "      <td>4.036325e-01</td>\n",
              "      <td>3.300833e-01</td>\n",
              "      <td>250.120109</td>\n",
              "      <td>0.041527</td>\n",
              "    </tr>\n",
              "    <tr>\n",
              "      <th>min</th>\n",
              "      <td>0.000000</td>\n",
              "      <td>-5.640751e+01</td>\n",
              "      <td>-7.271573e+01</td>\n",
              "      <td>-4.832559e+01</td>\n",
              "      <td>-5.683171e+00</td>\n",
              "      <td>-1.137433e+02</td>\n",
              "      <td>-2.616051e+01</td>\n",
              "      <td>-4.355724e+01</td>\n",
              "      <td>-7.321672e+01</td>\n",
              "      <td>-1.343407e+01</td>\n",
              "      <td>...</td>\n",
              "      <td>-3.483038e+01</td>\n",
              "      <td>-1.093314e+01</td>\n",
              "      <td>-4.480774e+01</td>\n",
              "      <td>-2.836627e+00</td>\n",
              "      <td>-1.029540e+01</td>\n",
              "      <td>-2.604551e+00</td>\n",
              "      <td>-2.256568e+01</td>\n",
              "      <td>-1.543008e+01</td>\n",
              "      <td>0.000000</td>\n",
              "      <td>0.000000</td>\n",
              "    </tr>\n",
              "    <tr>\n",
              "      <th>25%</th>\n",
              "      <td>54201.500000</td>\n",
              "      <td>-9.203734e-01</td>\n",
              "      <td>-5.985499e-01</td>\n",
              "      <td>-8.903648e-01</td>\n",
              "      <td>-8.486401e-01</td>\n",
              "      <td>-6.915971e-01</td>\n",
              "      <td>-7.682956e-01</td>\n",
              "      <td>-5.540759e-01</td>\n",
              "      <td>-2.086297e-01</td>\n",
              "      <td>-6.430976e-01</td>\n",
              "      <td>...</td>\n",
              "      <td>-2.283949e-01</td>\n",
              "      <td>-5.423504e-01</td>\n",
              "      <td>-1.618463e-01</td>\n",
              "      <td>-3.545861e-01</td>\n",
              "      <td>-3.171451e-01</td>\n",
              "      <td>-3.269839e-01</td>\n",
              "      <td>-7.083953e-02</td>\n",
              "      <td>-5.295979e-02</td>\n",
              "      <td>5.600000</td>\n",
              "      <td>0.000000</td>\n",
              "    </tr>\n",
              "    <tr>\n",
              "      <th>50%</th>\n",
              "      <td>84692.000000</td>\n",
              "      <td>1.810880e-02</td>\n",
              "      <td>6.548556e-02</td>\n",
              "      <td>1.798463e-01</td>\n",
              "      <td>-1.984653e-02</td>\n",
              "      <td>-5.433583e-02</td>\n",
              "      <td>-2.741871e-01</td>\n",
              "      <td>4.010308e-02</td>\n",
              "      <td>2.235804e-02</td>\n",
              "      <td>-5.142873e-02</td>\n",
              "      <td>...</td>\n",
              "      <td>-2.945017e-02</td>\n",
              "      <td>6.781943e-03</td>\n",
              "      <td>-1.119293e-02</td>\n",
              "      <td>4.097606e-02</td>\n",
              "      <td>1.659350e-02</td>\n",
              "      <td>-5.213911e-02</td>\n",
              "      <td>1.342146e-03</td>\n",
              "      <td>1.124383e-02</td>\n",
              "      <td>22.000000</td>\n",
              "      <td>0.000000</td>\n",
              "    </tr>\n",
              "    <tr>\n",
              "      <th>75%</th>\n",
              "      <td>139320.500000</td>\n",
              "      <td>1.315642e+00</td>\n",
              "      <td>8.037239e-01</td>\n",
              "      <td>1.027196e+00</td>\n",
              "      <td>7.433413e-01</td>\n",
              "      <td>6.119264e-01</td>\n",
              "      <td>3.985649e-01</td>\n",
              "      <td>5.704361e-01</td>\n",
              "      <td>3.273459e-01</td>\n",
              "      <td>5.971390e-01</td>\n",
              "      <td>...</td>\n",
              "      <td>1.863772e-01</td>\n",
              "      <td>5.285536e-01</td>\n",
              "      <td>1.476421e-01</td>\n",
              "      <td>4.395266e-01</td>\n",
              "      <td>3.507156e-01</td>\n",
              "      <td>2.409522e-01</td>\n",
              "      <td>9.104512e-02</td>\n",
              "      <td>7.827995e-02</td>\n",
              "      <td>77.165000</td>\n",
              "      <td>0.000000</td>\n",
              "    </tr>\n",
              "    <tr>\n",
              "      <th>max</th>\n",
              "      <td>172792.000000</td>\n",
              "      <td>2.454930e+00</td>\n",
              "      <td>2.205773e+01</td>\n",
              "      <td>9.382558e+00</td>\n",
              "      <td>1.687534e+01</td>\n",
              "      <td>3.480167e+01</td>\n",
              "      <td>7.330163e+01</td>\n",
              "      <td>1.205895e+02</td>\n",
              "      <td>2.000721e+01</td>\n",
              "      <td>1.559499e+01</td>\n",
              "      <td>...</td>\n",
              "      <td>2.720284e+01</td>\n",
              "      <td>1.050309e+01</td>\n",
              "      <td>2.252841e+01</td>\n",
              "      <td>4.584549e+00</td>\n",
              "      <td>7.519589e+00</td>\n",
              "      <td>3.517346e+00</td>\n",
              "      <td>3.161220e+01</td>\n",
              "      <td>3.384781e+01</td>\n",
              "      <td>25691.160000</td>\n",
              "      <td>1.000000</td>\n",
              "    </tr>\n",
              "  </tbody>\n",
              "</table>\n",
              "<p>8 rows × 31 columns</p>\n",
              "</div>\n",
              "      <button class=\"colab-df-convert\" onclick=\"convertToInteractive('df-dd521cf6-c1a2-4f12-840c-8ef301d26e32')\"\n",
              "              title=\"Convert this dataframe to an interactive table.\"\n",
              "              style=\"display:none;\">\n",
              "        \n",
              "  <svg xmlns=\"http://www.w3.org/2000/svg\" height=\"24px\"viewBox=\"0 0 24 24\"\n",
              "       width=\"24px\">\n",
              "    <path d=\"M0 0h24v24H0V0z\" fill=\"none\"/>\n",
              "    <path d=\"M18.56 5.44l.94 2.06.94-2.06 2.06-.94-2.06-.94-.94-2.06-.94 2.06-2.06.94zm-11 1L8.5 8.5l.94-2.06 2.06-.94-2.06-.94L8.5 2.5l-.94 2.06-2.06.94zm10 10l.94 2.06.94-2.06 2.06-.94-2.06-.94-.94-2.06-.94 2.06-2.06.94z\"/><path d=\"M17.41 7.96l-1.37-1.37c-.4-.4-.92-.59-1.43-.59-.52 0-1.04.2-1.43.59L10.3 9.45l-7.72 7.72c-.78.78-.78 2.05 0 2.83L4 21.41c.39.39.9.59 1.41.59.51 0 1.02-.2 1.41-.59l7.78-7.78 2.81-2.81c.8-.78.8-2.07 0-2.86zM5.41 20L4 18.59l7.72-7.72 1.47 1.35L5.41 20z\"/>\n",
              "  </svg>\n",
              "      </button>\n",
              "      \n",
              "  <style>\n",
              "    .colab-df-container {\n",
              "      display:flex;\n",
              "      flex-wrap:wrap;\n",
              "      gap: 12px;\n",
              "    }\n",
              "\n",
              "    .colab-df-convert {\n",
              "      background-color: #E8F0FE;\n",
              "      border: none;\n",
              "      border-radius: 50%;\n",
              "      cursor: pointer;\n",
              "      display: none;\n",
              "      fill: #1967D2;\n",
              "      height: 32px;\n",
              "      padding: 0 0 0 0;\n",
              "      width: 32px;\n",
              "    }\n",
              "\n",
              "    .colab-df-convert:hover {\n",
              "      background-color: #E2EBFA;\n",
              "      box-shadow: 0px 1px 2px rgba(60, 64, 67, 0.3), 0px 1px 3px 1px rgba(60, 64, 67, 0.15);\n",
              "      fill: #174EA6;\n",
              "    }\n",
              "\n",
              "    [theme=dark] .colab-df-convert {\n",
              "      background-color: #3B4455;\n",
              "      fill: #D2E3FC;\n",
              "    }\n",
              "\n",
              "    [theme=dark] .colab-df-convert:hover {\n",
              "      background-color: #434B5C;\n",
              "      box-shadow: 0px 1px 3px 1px rgba(0, 0, 0, 0.15);\n",
              "      filter: drop-shadow(0px 1px 2px rgba(0, 0, 0, 0.3));\n",
              "      fill: #FFFFFF;\n",
              "    }\n",
              "  </style>\n",
              "\n",
              "      <script>\n",
              "        const buttonEl =\n",
              "          document.querySelector('#df-dd521cf6-c1a2-4f12-840c-8ef301d26e32 button.colab-df-convert');\n",
              "        buttonEl.style.display =\n",
              "          google.colab.kernel.accessAllowed ? 'block' : 'none';\n",
              "\n",
              "        async function convertToInteractive(key) {\n",
              "          const element = document.querySelector('#df-dd521cf6-c1a2-4f12-840c-8ef301d26e32');\n",
              "          const dataTable =\n",
              "            await google.colab.kernel.invokeFunction('convertToInteractive',\n",
              "                                                     [key], {});\n",
              "          if (!dataTable) return;\n",
              "\n",
              "          const docLinkHtml = 'Like what you see? Visit the ' +\n",
              "            '<a target=\"_blank\" href=https://colab.research.google.com/notebooks/data_table.ipynb>data table notebook</a>'\n",
              "            + ' to learn more about interactive tables.';\n",
              "          element.innerHTML = '';\n",
              "          dataTable['output_type'] = 'display_data';\n",
              "          await google.colab.output.renderOutput(dataTable, element);\n",
              "          const docLink = document.createElement('div');\n",
              "          docLink.innerHTML = docLinkHtml;\n",
              "          element.appendChild(docLink);\n",
              "        }\n",
              "      </script>\n",
              "    </div>\n",
              "  </div>\n",
              "  "
            ]
          },
          "metadata": {},
          "execution_count": 2
        }
      ]
    },
    {
      "cell_type": "code",
      "source": [
        "df.shape"
      ],
      "metadata": {
        "id": "UMYBMUYuCZx8",
        "outputId": "70329e67-6003-4c50-c075-f15d032f59c2",
        "colab": {
          "base_uri": "https://localhost:8080/"
        }
      },
      "execution_count": null,
      "outputs": [
        {
          "output_type": "execute_result",
          "data": {
            "text/plain": [
              "(284807, 31)"
            ]
          },
          "metadata": {},
          "execution_count": 11
        }
      ]
    },
    {
      "cell_type": "code",
      "source": [
        "#confirm no null values exist\n",
        "df.isnull().sum().max()"
      ],
      "metadata": {
        "id": "aiOnamHDQQxA",
        "outputId": "23f7014c-146f-445c-8eca-be9e8318e6da",
        "colab": {
          "base_uri": "https://localhost:8080/"
        }
      },
      "execution_count": null,
      "outputs": [
        {
          "output_type": "execute_result",
          "data": {
            "text/plain": [
              "0"
            ]
          },
          "metadata": {},
          "execution_count": 9
        }
      ]
    },
    {
      "cell_type": "code",
      "source": [
        "#check for duplicates\n",
        "df.duplicated().value_counts()"
      ],
      "metadata": {
        "id": "yFgDEQBLL-Mu",
        "outputId": "246210d1-d3c9-4ae0-a161-a80f20b938a7",
        "colab": {
          "base_uri": "https://localhost:8080/"
        }
      },
      "execution_count": null,
      "outputs": [
        {
          "output_type": "execute_result",
          "data": {
            "text/plain": [
              "False    283726\n",
              "True       1081\n",
              "dtype: int64"
            ]
          },
          "metadata": {},
          "execution_count": 5
        }
      ]
    },
    {
      "cell_type": "code",
      "source": [
        "#count duplicate frauds\n",
        "df[df['Class'] == 1].duplicated().value_counts()"
      ],
      "metadata": {
        "id": "X2UHbgrhP51h",
        "outputId": "f9902a63-bd9f-4376-8327-a45269dbecd7",
        "colab": {
          "base_uri": "https://localhost:8080/"
        }
      },
      "execution_count": null,
      "outputs": [
        {
          "output_type": "execute_result",
          "data": {
            "text/plain": [
              "False    473\n",
              "True      19\n",
              "dtype: int64"
            ]
          },
          "metadata": {},
          "execution_count": 15
        }
      ]
    },
    {
      "cell_type": "code",
      "source": [
        "#count duplicate non-frauds\n",
        "df[df['Class'] == 0].duplicated().value_counts()"
      ],
      "metadata": {
        "id": "bfnstuniSotK",
        "outputId": "14bf87fd-4584-459e-8f29-1d618d93547b",
        "colab": {
          "base_uri": "https://localhost:8080/"
        }
      },
      "execution_count": null,
      "outputs": [
        {
          "output_type": "execute_result",
          "data": {
            "text/plain": [
              "False    283253\n",
              "True       1062\n",
              "dtype: int64"
            ]
          },
          "metadata": {},
          "execution_count": 16
        }
      ]
    },
    {
      "cell_type": "code",
      "source": [
        "#drop duplicates\n",
        "df.drop_duplicates(inplace=True)"
      ],
      "metadata": {
        "id": "zFRX2Lz-EopM"
      },
      "execution_count": 3,
      "outputs": []
    },
    {
      "cell_type": "code",
      "source": [
        "#list column names\n",
        "df.columns"
      ],
      "metadata": {
        "id": "IZv40S5ihE1k",
        "outputId": "bee5cc8f-117d-4c4c-c7e0-246967f76281",
        "colab": {
          "base_uri": "https://localhost:8080/"
        }
      },
      "execution_count": null,
      "outputs": [
        {
          "output_type": "execute_result",
          "data": {
            "text/plain": [
              "Index(['Time', 'V1', 'V2', 'V3', 'V4', 'V5', 'V6', 'V7', 'V8', 'V9', 'V10',\n",
              "       'V11', 'V12', 'V13', 'V14', 'V15', 'V16', 'V17', 'V18', 'V19', 'V20',\n",
              "       'V21', 'V22', 'V23', 'V24', 'V25', 'V26', 'V27', 'V28', 'Amount',\n",
              "       'Class'],\n",
              "      dtype='object')"
            ]
          },
          "metadata": {},
          "execution_count": 10
        }
      ]
    },
    {
      "cell_type": "code",
      "source": [
        "colors = [\"#0101DF\", \"#DF0101\"]\n",
        "\n",
        "sns.countplot(x='Class', data=df, palette=colors)\n",
        "plt.xticks(np.arange(2), ('No Fraud', 'Fraud'))\n",
        "plt.title('Class Distributions', fontsize=14)"
      ],
      "metadata": {
        "id": "7xWWYKBIhQfh",
        "outputId": "4523d86a-bfb4-4a4e-d193-dabfd0c7e43b",
        "colab": {
          "base_uri": "https://localhost:8080/",
          "height": 491
        }
      },
      "execution_count": null,
      "outputs": [
        {
          "output_type": "execute_result",
          "data": {
            "text/plain": [
              "Text(0.5, 1.0, 'Class Distributions')"
            ]
          },
          "metadata": {},
          "execution_count": 5
        },
        {
          "output_type": "display_data",
          "data": {
            "text/plain": [
              "<Figure size 640x480 with 1 Axes>"
            ],
            "image/png": "[encoded data removed]"
          },
          "metadata": {}
        }
      ]
    },
    {
      "cell_type": "code",
      "source": [
        "#scale amount and time\n",
        "\n",
        "df['amount_scaled'] = RobustScaler().fit_transform(df['Amount'].values.reshape(-1,1))\n",
        "df['time_scaled'] = RobustScaler().fit_transform(df['Time'].values.reshape(-1,1))\n",
        "\n",
        "df.drop(['Time','Amount'], axis=1, inplace=True)\n",
        "\n",
        "#move scaled columns to columns 0,1\n",
        "amount_scaled = df['amount_scaled']\n",
        "scaled_time = df['time_scaled']\n",
        "df.drop(['amount_scaled', 'time_scaled'], axis=1, inplace=True)\n",
        "df.insert(0, 'amount_scaled', amount_scaled)\n",
        "df.insert(1, 'time_scaled', scaled_time)"
      ],
      "metadata": {
        "id": "mhsoT4_cnxQS"
      },
      "execution_count": 4,
      "outputs": []
    },
    {
      "cell_type": "code",
      "source": [
        "#feature selection with FPR\n",
        "X = df.iloc[:, 0:-1]\n",
        "y = df.iloc[:, -1]\n",
        "\n",
        "bestFeatures = GenericUnivariateSelect(score_func=mutual_info_classif, mode='fpr',param=0.05)\n",
        "fit = bestFeatures.fit(X,y,)\n",
        "dfresults = pd.DataFrame(fit.scores_)\n",
        "dfcolumns = pd.DataFrame(X.columns) \n",
        "featureResults = pd.concat([dfcolumns,dfresults],axis=1)\n",
        "featureResults.columns = ['Feature','Score']\n",
        "print(featureResults.sort_values(by=['Score'],ascending=False))\n"
      ],
      "metadata": {
        "id": "4JosOLDiGkVI",
        "outputId": "05e65dbd-ca22-4ece-efea-201b32bce8cd",
        "colab": {
          "base_uri": "https://localhost:8080/"
        }
      },
      "execution_count": null,
      "outputs": [
        {
          "output_type": "stream",
          "name": "stdout",
          "text": [
            "          Feature     Score\n",
            "18            V17  0.007873\n",
            "15            V14  0.007746\n",
            "13            V12  0.007220\n",
            "11            V10  0.007150\n",
            "12            V11  0.006450\n",
            "17            V16  0.005752\n",
            "5              V4  0.004587\n",
            "4              V3  0.004583\n",
            "19            V18  0.003875\n",
            "10             V9  0.003854\n",
            "8              V7  0.003631\n",
            "3              V2  0.002920\n",
            "28            V27  0.002166\n",
            "22            V21  0.002139\n",
            "6              V5  0.002065\n",
            "7              V6  0.002000\n",
            "2              V1  0.001851\n",
            "29            V28  0.001607\n",
            "9              V8  0.001600\n",
            "0   amount_scaled  0.001507\n",
            "1     time_scaled  0.001337\n",
            "20            V19  0.001132\n",
            "21            V20  0.000904\n",
            "24            V23  0.000471\n",
            "25            V24  0.000364\n",
            "26            V25  0.000251\n",
            "27            V26  0.000239\n",
            "23            V22  0.000126\n",
            "14            V13  0.000085\n",
            "16            V15  0.000023\n"
          ]
        }
      ]
    },
    {
      "cell_type": "code",
      "source": [
        "#reset X based on FPR selection results, drop scores < 0.001\n",
        "X = X.drop(['V20','V23','V24','V25','V26','V22','V13','V15'],axis=1)"
      ],
      "metadata": {
        "id": "tA6PqmlYKh6M"
      },
      "execution_count": null,
      "outputs": []
    },
    {
      "cell_type": "code",
      "source": [
        "#feature selection with FDR\n",
        "X = df.iloc[:, 0:-1]\n",
        "y = df.iloc[:, -1]\n",
        "\n",
        "bestFeatures = GenericUnivariateSelect(score_func=mutual_info_classif, mode='fdr',param=0.05)\n",
        "fit = bestFeatures.fit(X,y,)\n",
        "dfresults = pd.DataFrame(fit.scores_)\n",
        "dfcolumns = pd.DataFrame(X.columns) \n",
        "featureResults = pd.concat([dfcolumns,dfresults],axis=1)\n",
        "featureResults.columns = ['Feature','Score']\n",
        "print(featureResults.sort_values(by=['Score'],ascending=False))\n",
        "#same results as FPR so no further work done"
      ],
      "metadata": {
        "id": "tOlPhHkWRHNp",
        "outputId": "6c5ba7a3-666f-4375-d458-a4f0ce45cb80",
        "colab": {
          "base_uri": "https://localhost:8080/"
        }
      },
      "execution_count": null,
      "outputs": [
        {
          "output_type": "stream",
          "name": "stdout",
          "text": [
            "          Feature     Score\n",
            "18            V17  0.007873\n",
            "15            V14  0.007746\n",
            "13            V12  0.007220\n",
            "11            V10  0.007150\n",
            "12            V11  0.006450\n",
            "17            V16  0.005752\n",
            "5              V4  0.004587\n",
            "4              V3  0.004583\n",
            "19            V18  0.003875\n",
            "10             V9  0.003854\n",
            "8              V7  0.003630\n",
            "3              V2  0.002920\n",
            "28            V27  0.002166\n",
            "22            V21  0.002139\n",
            "6              V5  0.002065\n",
            "7              V6  0.002000\n",
            "2              V1  0.001851\n",
            "29            V28  0.001607\n",
            "9              V8  0.001600\n",
            "1     time_scaled  0.001389\n",
            "0   amount_scaled  0.001385\n",
            "20            V19  0.001132\n",
            "21            V20  0.000904\n",
            "24            V23  0.000471\n",
            "25            V24  0.000364\n",
            "26            V25  0.000253\n",
            "27            V26  0.000239\n",
            "23            V22  0.000126\n",
            "14            V13  0.000085\n",
            "16            V15  0.000023\n"
          ]
        }
      ]
    },
    {
      "cell_type": "code",
      "source": [
        "#feature selection with FWE\n",
        "X = df.iloc[:, 0:-1]\n",
        "y = df.iloc[:, -1]\n",
        "\n",
        "bestFeatures = GenericUnivariateSelect(score_func=mutual_info_classif, mode='fwe',param=0.05)\n",
        "fit = bestFeatures.fit(X,y,)\n",
        "dfresults = pd.DataFrame(fit.scores_)\n",
        "dfcolumns = pd.DataFrame(X.columns) \n",
        "featureResults = pd.concat([dfcolumns,dfresults],axis=1)\n",
        "featureResults.columns = ['Feature','Score']\n",
        "print(featureResults.sort_values(by=['Score'],ascending=False))\n",
        "#same results as FPR and FDR so no further work done"
      ],
      "metadata": {
        "id": "jiUAFRLzRGpf",
        "outputId": "b6773905-0cfe-40ae-dd16-4be47cfadab8",
        "colab": {
          "base_uri": "https://localhost:8080/"
        }
      },
      "execution_count": null,
      "outputs": [
        {
          "output_type": "stream",
          "name": "stdout",
          "text": [
            "          Feature     Score\n",
            "18            V17  0.007873\n",
            "15            V14  0.007746\n",
            "13            V12  0.007220\n",
            "11            V10  0.007150\n",
            "12            V11  0.006450\n",
            "17            V16  0.005752\n",
            "5              V4  0.004587\n",
            "4              V3  0.004583\n",
            "19            V18  0.003875\n",
            "10             V9  0.003856\n",
            "8              V7  0.003631\n",
            "3              V2  0.002920\n",
            "28            V27  0.002166\n",
            "22            V21  0.002139\n",
            "6              V5  0.002065\n",
            "7              V6  0.002000\n",
            "2              V1  0.001851\n",
            "29            V28  0.001607\n",
            "9              V8  0.001600\n",
            "0   amount_scaled  0.001400\n",
            "1     time_scaled  0.001364\n",
            "20            V19  0.001132\n",
            "21            V20  0.000904\n",
            "24            V23  0.000471\n",
            "25            V24  0.000364\n",
            "26            V25  0.000253\n",
            "27            V26  0.000239\n",
            "23            V22  0.000126\n",
            "14            V13  0.000085\n",
            "16            V15  0.000023\n"
          ]
        }
      ]
    },
    {
      "cell_type": "code",
      "source": [
        "#define X and y for full dataset \n",
        "X = df.iloc[:, 0:-1]\n",
        "y = df.iloc[:, -1]"
      ],
      "metadata": {
        "id": "p_xa--rKBeSY"
      },
      "execution_count": 5,
      "outputs": []
    },
    {
      "cell_type": "code",
      "source": [
        "y[y.isna()]"
      ],
      "metadata": {
        "id": "eqrajqLTDsvF",
        "outputId": "76e916c9-778c-47de-a3d4-cb3040a34b37",
        "colab": {
          "base_uri": "https://localhost:8080/"
        }
      },
      "execution_count": null,
      "outputs": [
        {
          "output_type": "execute_result",
          "data": {
            "text/plain": [
              "Series([], Name: Class, dtype: int64)"
            ]
          },
          "metadata": {},
          "execution_count": 28
        }
      ]
    },
    {
      "cell_type": "code",
      "source": [
        "# Train and Test split\n",
        "X_trainval, X_test, y_trainval, y_test = train_test_split(X, y, test_size=0.20, stratify=y, random_state=69)"
      ],
      "metadata": {
        "id": "aU8MHN7NGYuo"
      },
      "execution_count": 6,
      "outputs": []
    },
    {
      "cell_type": "code",
      "source": [
        "#merge trainval back together\n",
        "trainval = pd.concat([X_trainval, y_trainval],axis=1)\n",
        "trainval.head()"
      ],
      "metadata": {
        "id": "0OhQ7qsaPg1s",
        "outputId": "9abf971c-4d3b-4b11-b4b4-5418275a04b7",
        "colab": {
          "base_uri": "https://localhost:8080/",
          "height": 299
        }
      },
      "execution_count": null,
      "outputs": [
        {
          "output_type": "execute_result",
          "data": {
            "text/plain": [
              "        amount_scaled  time_scaled        V1        V2        V3        V4  \\\n",
              "131209       2.039405    -0.060750  0.973182 -0.398310 -0.275475 -0.163117   \n",
              "229791       0.081464     0.720873  0.385273  0.596798 -0.560534 -1.506014   \n",
              "53773       -0.269964    -0.452942 -1.044519  1.104374  0.587008  0.144883   \n",
              "265976      -0.176762     0.909738 -0.909553  0.273070 -0.401854 -2.200167   \n",
              "274535      -0.282401     0.956062 -1.584358  0.089006 -0.872386 -0.286382   \n",
              "\n",
              "              V5        V6        V7        V8  ...       V20       V21  \\\n",
              "131209 -0.274127 -0.916093  0.517064 -0.281366  ...  0.251531 -0.270088   \n",
              "229791  1.016335 -1.420794  1.762729 -0.736705  ...  0.027217  0.146134   \n",
              "53773   0.399978  0.563941 -0.099757  0.658616  ...  0.059259 -0.122502   \n",
              "265976  3.732417  3.236887  0.692304  0.420759  ... -0.017176 -0.394718   \n",
              "274535  0.967318 -1.206637  0.338463  0.274947  ... -0.518471  0.230511   \n",
              "\n",
              "             V22       V23       V24       V25       V26       V27       V28  \\\n",
              "131209 -1.141467  0.052946  0.143815  0.001378  1.096442 -0.149123  0.018936   \n",
              "229791  0.722909 -0.195606  1.280429  0.083790  0.911662 -0.267488 -0.248234   \n",
              "53773  -0.482541 -0.108243 -1.156561 -0.523187  0.244448 -0.003397  0.087018   \n",
              "265976 -0.779348 -0.282044  0.707524 -0.144915  0.070718 -0.215493 -0.303012   \n",
              "274535  1.412809  0.805656 -0.394218 -0.474548 -0.161696  0.626393  0.122114   \n",
              "\n",
              "        Class  \n",
              "131209      0  \n",
              "229791      0  \n",
              "53773       0  \n",
              "265976      0  \n",
              "274535      0  \n",
              "\n",
              "[5 rows x 31 columns]"
            ],
            "text/html": [
              "\n",
              "  <div id=\"df-120657e9-0701-4ae7-aacb-130858baea86\">\n",
              "    <div class=\"colab-df-container\">\n",
              "      <div>\n",
              "<style scoped>\n",
              "    .dataframe tbody tr th:only-of-type {\n",
              "        vertical-align: middle;\n",
              "    }\n",
              "\n",
              "    .dataframe tbody tr th {\n",
              "        vertical-align: top;\n",
              "    }\n",
              "\n",
              "    .dataframe thead th {\n",
              "        text-align: right;\n",
              "    }\n",
              "</style>\n",
              "<table border=\"1\" class=\"dataframe\">\n",
              "  <thead>\n",
              "    <tr style=\"text-align: right;\">\n",
              "      <th></th>\n",
              "      <th>amount_scaled</th>\n",
              "      <th>time_scaled</th>\n",
              "      <th>V1</th>\n",
              "      <th>V2</th>\n",
              "      <th>V3</th>\n",
              "      <th>V4</th>\n",
              "      <th>V5</th>\n",
              "      <th>V6</th>\n",
              "      <th>V7</th>\n",
              "      <th>V8</th>\n",
              "      <th>...</th>\n",
              "      <th>V20</th>\n",
              "      <th>V21</th>\n",
              "      <th>V22</th>\n",
              "      <th>V23</th>\n",
              "      <th>V24</th>\n",
              "      <th>V25</th>\n",
              "      <th>V26</th>\n",
              "      <th>V27</th>\n",
              "      <th>V28</th>\n",
              "      <th>Class</th>\n",
              "    </tr>\n",
              "  </thead>\n",
              "  <tbody>\n",
              "    <tr>\n",
              "      <th>131209</th>\n",
              "      <td>2.039405</td>\n",
              "      <td>-0.060750</td>\n",
              "      <td>0.973182</td>\n",
              "      <td>-0.398310</td>\n",
              "      <td>-0.275475</td>\n",
              "      <td>-0.163117</td>\n",
              "      <td>-0.274127</td>\n",
              "      <td>-0.916093</td>\n",
              "      <td>0.517064</td>\n",
              "      <td>-0.281366</td>\n",
              "      <td>...</td>\n",
              "      <td>0.251531</td>\n",
              "      <td>-0.270088</td>\n",
              "      <td>-1.141467</td>\n",
              "      <td>0.052946</td>\n",
              "      <td>0.143815</td>\n",
              "      <td>0.001378</td>\n",
              "      <td>1.096442</td>\n",
              "      <td>-0.149123</td>\n",
              "      <td>0.018936</td>\n",
              "      <td>0</td>\n",
              "    </tr>\n",
              "    <tr>\n",
              "      <th>229791</th>\n",
              "      <td>0.081464</td>\n",
              "      <td>0.720873</td>\n",
              "      <td>0.385273</td>\n",
              "      <td>0.596798</td>\n",
              "      <td>-0.560534</td>\n",
              "      <td>-1.506014</td>\n",
              "      <td>1.016335</td>\n",
              "      <td>-1.420794</td>\n",
              "      <td>1.762729</td>\n",
              "      <td>-0.736705</td>\n",
              "      <td>...</td>\n",
              "      <td>0.027217</td>\n",
              "      <td>0.146134</td>\n",
              "      <td>0.722909</td>\n",
              "      <td>-0.195606</td>\n",
              "      <td>1.280429</td>\n",
              "      <td>0.083790</td>\n",
              "      <td>0.911662</td>\n",
              "      <td>-0.267488</td>\n",
              "      <td>-0.248234</td>\n",
              "      <td>0</td>\n",
              "    </tr>\n",
              "    <tr>\n",
              "      <th>53773</th>\n",
              "      <td>-0.269964</td>\n",
              "      <td>-0.452942</td>\n",
              "      <td>-1.044519</td>\n",
              "      <td>1.104374</td>\n",
              "      <td>0.587008</td>\n",
              "      <td>0.144883</td>\n",
              "      <td>0.399978</td>\n",
              "      <td>0.563941</td>\n",
              "      <td>-0.099757</td>\n",
              "      <td>0.658616</td>\n",
              "      <td>...</td>\n",
              "      <td>0.059259</td>\n",
              "      <td>-0.122502</td>\n",
              "      <td>-0.482541</td>\n",
              "      <td>-0.108243</td>\n",
              "      <td>-1.156561</td>\n",
              "      <td>-0.523187</td>\n",
              "      <td>0.244448</td>\n",
              "      <td>-0.003397</td>\n",
              "      <td>0.087018</td>\n",
              "      <td>0</td>\n",
              "    </tr>\n",
              "    <tr>\n",
              "      <th>265976</th>\n",
              "      <td>-0.176762</td>\n",
              "      <td>0.909738</td>\n",
              "      <td>-0.909553</td>\n",
              "      <td>0.273070</td>\n",
              "      <td>-0.401854</td>\n",
              "      <td>-2.200167</td>\n",
              "      <td>3.732417</td>\n",
              "      <td>3.236887</td>\n",
              "      <td>0.692304</td>\n",
              "      <td>0.420759</td>\n",
              "      <td>...</td>\n",
              "      <td>-0.017176</td>\n",
              "      <td>-0.394718</td>\n",
              "      <td>-0.779348</td>\n",
              "      <td>-0.282044</td>\n",
              "      <td>0.707524</td>\n",
              "      <td>-0.144915</td>\n",
              "      <td>0.070718</td>\n",
              "      <td>-0.215493</td>\n",
              "      <td>-0.303012</td>\n",
              "      <td>0</td>\n",
              "    </tr>\n",
              "    <tr>\n",
              "      <th>274535</th>\n",
              "      <td>-0.282401</td>\n",
              "      <td>0.956062</td>\n",
              "      <td>-1.584358</td>\n",
              "      <td>0.089006</td>\n",
              "      <td>-0.872386</td>\n",
              "      <td>-0.286382</td>\n",
              "      <td>0.967318</td>\n",
              "      <td>-1.206637</td>\n",
              "      <td>0.338463</td>\n",
              "      <td>0.274947</td>\n",
              "      <td>...</td>\n",
              "      <td>-0.518471</td>\n",
              "      <td>0.230511</td>\n",
              "      <td>1.412809</td>\n",
              "      <td>0.805656</td>\n",
              "      <td>-0.394218</td>\n",
              "      <td>-0.474548</td>\n",
              "      <td>-0.161696</td>\n",
              "      <td>0.626393</td>\n",
              "      <td>0.122114</td>\n",
              "      <td>0</td>\n",
              "    </tr>\n",
              "  </tbody>\n",
              "</table>\n",
              "<p>5 rows × 31 columns</p>\n",
              "</div>\n",
              "      <button class=\"colab-df-convert\" onclick=\"convertToInteractive('df-120657e9-0701-4ae7-aacb-130858baea86')\"\n",
              "              title=\"Convert this dataframe to an interactive table.\"\n",
              "              style=\"display:none;\">\n",
              "        \n",
              "  <svg xmlns=\"http://www.w3.org/2000/svg\" height=\"24px\"viewBox=\"0 0 24 24\"\n",
              "       width=\"24px\">\n",
              "    <path d=\"M0 0h24v24H0V0z\" fill=\"none\"/>\n",
              "    <path d=\"M18.56 5.44l.94 2.06.94-2.06 2.06-.94-2.06-.94-.94-2.06-.94 2.06-2.06.94zm-11 1L8.5 8.5l.94-2.06 2.06-.94-2.06-.94L8.5 2.5l-.94 2.06-2.06.94zm10 10l.94 2.06.94-2.06 2.06-.94-2.06-.94-.94-2.06-.94 2.06-2.06.94z\"/><path d=\"M17.41 7.96l-1.37-1.37c-.4-.4-.92-.59-1.43-.59-.52 0-1.04.2-1.43.59L10.3 9.45l-7.72 7.72c-.78.78-.78 2.05 0 2.83L4 21.41c.39.39.9.59 1.41.59.51 0 1.02-.2 1.41-.59l7.78-7.78 2.81-2.81c.8-.78.8-2.07 0-2.86zM5.41 20L4 18.59l7.72-7.72 1.47 1.35L5.41 20z\"/>\n",
              "  </svg>\n",
              "      </button>\n",
              "      \n",
              "  <style>\n",
              "    .colab-df-container {\n",
              "      display:flex;\n",
              "      flex-wrap:wrap;\n",
              "      gap: 12px;\n",
              "    }\n",
              "\n",
              "    .colab-df-convert {\n",
              "      background-color: #E8F0FE;\n",
              "      border: none;\n",
              "      border-radius: 50%;\n",
              "      cursor: pointer;\n",
              "      display: none;\n",
              "      fill: #1967D2;\n",
              "      height: 32px;\n",
              "      padding: 0 0 0 0;\n",
              "      width: 32px;\n",
              "    }\n",
              "\n",
              "    .colab-df-convert:hover {\n",
              "      background-color: #E2EBFA;\n",
              "      box-shadow: 0px 1px 2px rgba(60, 64, 67, 0.3), 0px 1px 3px 1px rgba(60, 64, 67, 0.15);\n",
              "      fill: #174EA6;\n",
              "    }\n",
              "\n",
              "    [theme=dark] .colab-df-convert {\n",
              "      background-color: #3B4455;\n",
              "      fill: #D2E3FC;\n",
              "    }\n",
              "\n",
              "    [theme=dark] .colab-df-convert:hover {\n",
              "      background-color: #434B5C;\n",
              "      box-shadow: 0px 1px 3px 1px rgba(0, 0, 0, 0.15);\n",
              "      filter: drop-shadow(0px 1px 2px rgba(0, 0, 0, 0.3));\n",
              "      fill: #FFFFFF;\n",
              "    }\n",
              "  </style>\n",
              "\n",
              "      <script>\n",
              "        const buttonEl =\n",
              "          document.querySelector('#df-120657e9-0701-4ae7-aacb-130858baea86 button.colab-df-convert');\n",
              "        buttonEl.style.display =\n",
              "          google.colab.kernel.accessAllowed ? 'block' : 'none';\n",
              "\n",
              "        async function convertToInteractive(key) {\n",
              "          const element = document.querySelector('#df-120657e9-0701-4ae7-aacb-130858baea86');\n",
              "          const dataTable =\n",
              "            await google.colab.kernel.invokeFunction('convertToInteractive',\n",
              "                                                     [key], {});\n",
              "          if (!dataTable) return;\n",
              "\n",
              "          const docLinkHtml = 'Like what you see? Visit the ' +\n",
              "            '<a target=\"_blank\" href=https://colab.research.google.com/notebooks/data_table.ipynb>data table notebook</a>'\n",
              "            + ' to learn more about interactive tables.';\n",
              "          element.innerHTML = '';\n",
              "          dataTable['output_type'] = 'display_data';\n",
              "          await google.colab.output.renderOutput(dataTable, element);\n",
              "          const docLink = document.createElement('div');\n",
              "          docLink.innerHTML = docLinkHtml;\n",
              "          element.appendChild(docLink);\n",
              "        }\n",
              "      </script>\n",
              "    </div>\n",
              "  </div>\n",
              "  "
            ]
          },
          "metadata": {},
          "execution_count": 6
        }
      ]
    },
    {
      "cell_type": "code",
      "source": [
        "#undersampling to balance the training and validation set\n",
        "num_frauds = len(trainval[trainval[\"Class\"]==1])\n",
        "frauds = trainval.loc[trainval['Class'].values == 1, :]\n",
        "no_frauds = trainval.drop(index = frauds.index)\n",
        "no_frauds = no_frauds.sample(n = num_frauds)\n",
        "balanced_trainval = pd.concat([no_frauds, frauds])"
      ],
      "metadata": {
        "id": "KBICH3iZyh4M"
      },
      "execution_count": null,
      "outputs": []
    },
    {
      "cell_type": "code",
      "source": [
        "colors = [\"#0101DF\", \"#DF0101\"]\n",
        "\n",
        "sns.countplot(x='Class', data=balanced_trainval, palette=colors)\n",
        "plt.xticks(np.arange(2), ('No Fraud', 'Fraud'))\n",
        "plt.title('Undersampling Training & Validation Class Distributions', fontsize=14)"
      ],
      "metadata": {
        "id": "w4ktnzAL13Bl",
        "outputId": "d0771cad-b146-4396-857e-5eceb24c0609",
        "colab": {
          "base_uri": "https://localhost:8080/",
          "height": 491
        }
      },
      "execution_count": null,
      "outputs": [
        {
          "output_type": "execute_result",
          "data": {
            "text/plain": [
              "Text(0.5, 1.0, 'Training & Validation Class Distributions')"
            ]
          },
          "metadata": {},
          "execution_count": 8
        },
        {
          "output_type": "display_data",
          "data": {
            "text/plain": [
              "<Figure size 640x480 with 1 Axes>"
            ],
            "image/png": "[encoded data removed]"
          },
          "metadata": {}
        }
      ]
    },
    {
      "cell_type": "code",
      "source": [
        "# Train and validation split\n",
        "X_trainval = balanced_trainval.iloc[:, 0:-1]\n",
        "y_trainval = balanced_trainval.iloc[:, -1]\n",
        "X_train, X_val, y_train, y_val = train_test_split(X_trainval, y_trainval, test_size=0.05, stratify=y_trainval, random_state=21)"
      ],
      "metadata": {
        "id": "KWYMSB9xPdXY"
      },
      "execution_count": null,
      "outputs": []
    },
    {
      "cell_type": "code",
      "source": [
        "#form train, validation, test sets\n",
        "train_dataset = pd.concat([X_train, y_train],axis=1)\n",
        "val_dataset = pd.concat([X_val, y_val],axis=1)\n",
        "test_dataset = pd.concat([X_test, y_test],axis=1)"
      ],
      "metadata": {
        "id": "IoNiXeDJ_9U6"
      },
      "execution_count": null,
      "outputs": []
    },
    {
      "cell_type": "code",
      "source": [
        "#save train, validation, and test sets to csv\n",
        "train_dataset.to_csv('fraud_trainset.csv')\n",
        "val_dataset.to_csv('fraud_valset.csv')\n",
        "test_dataset.to_csv('fraud_testset.csv')"
      ],
      "metadata": {
        "id": "bvn1rdYhUpWY"
      },
      "execution_count": null,
      "outputs": []
    },
    {
      "cell_type": "code",
      "source": [
        "#oversamping usine SMOTE to balanace training and validation\n",
        "smote = SMOTE(random_state=586)\n",
        "X_trainval_smote, y_trainval_smote = smote.fit_resample(X_trainval,y_trainval)"
      ],
      "metadata": {
        "id": "kEIja00lIwvi"
      },
      "execution_count": 7,
      "outputs": []
    },
    {
      "cell_type": "code",
      "source": [
        "#visualize SMOTE Distribution\n",
        "colors = [\"#0101DF\", \"#DF0101\"]\n",
        "\n",
        "sns.countplot(x='Class', data=pd.concat([X_trainval_smote, y_trainval_smote],axis=1), \n",
        "              palette=colors)\n",
        "plt.xticks(np.arange(2), ('No Fraud', 'Fraud'))\n",
        "plt.title('SMOTE Training & Validation Class Distributions', fontsize=14)"
      ],
      "metadata": {
        "id": "KWDpLD0MLavh",
        "outputId": "c169c5ac-a4e1-4edf-b0e9-23e6cf6cfec4",
        "colab": {
          "base_uri": "https://localhost:8080/",
          "height": 491
        }
      },
      "execution_count": 8,
      "outputs": [
        {
          "output_type": "execute_result",
          "data": {
            "text/plain": [
              "Text(0.5, 1.0, 'SMOTE Training & Validation Class Distributions')"
            ]
          },
          "metadata": {},
          "execution_count": 8
        },
        {
          "output_type": "display_data",
          "data": {
            "text/plain": [
              "<Figure size 640x480 with 1 Axes>"
            ],
            "image/png": "[encoded data removed]"
          },
          "metadata": {}
        }
      ]
    },
    {
      "cell_type": "code",
      "source": [
        "#split and form smote training and validation sets\n",
        "X_train_smote, X_val_smote, y_train_smote, y_val_smote = train_test_split(X_trainval_smote, y_trainval_smote, test_size=0.05, stratify=y_trainval_smote, random_state=21)\n",
        "train_dataset_smote = pd.concat([X_train_smote, y_train_smote],axis=1)\n",
        "val_dataset_smote = pd.concat([X_val_smote, y_val_smote],axis=1)"
      ],
      "metadata": {
        "id": "zX--SyqZNO1M"
      },
      "execution_count": null,
      "outputs": []
    },
    {
      "cell_type": "code",
      "source": [
        "#save smote (30 features) train and validation sets to csv\n",
        "train_dataset_smote.to_csv('fraud_trainset_smote_nodupe.csv',index=False)\n",
        "val_dataset_smote.to_csv('fraud_valset_smote_nodupe.csv',index=False)"
      ],
      "metadata": {
        "id": "s2xhxni6Qx6W"
      },
      "execution_count": null,
      "outputs": []
    },
    {
      "cell_type": "code",
      "source": [
        "#save smote (22 features FPR) train and validation sets to csv\n",
        "train_dataset_smote.to_csv('fraud_trainset_smote_22FPR.csv')\n",
        "val_dataset_smote.to_csv('fraud_valset_smote_22FPR.csv')"
      ],
      "metadata": {
        "id": "Pr2Lm377O9JW"
      },
      "execution_count": null,
      "outputs": []
    },
    {
      "cell_type": "code",
      "source": [
        "#form and save test set without duplicates\n",
        "test_dataset_nodupe = pd.concat([X_test, y_test],axis=1)\n",
        "test_dataset_nodupe.to_csv('fraud_testset_nodupe.csv',index=False)"
      ],
      "metadata": {
        "id": "AAZaW1fqV2TO"
      },
      "execution_count": 9,
      "outputs": []
    },
    {
      "cell_type": "code",
      "source": [
        "#form and save train smote (30 features) to csv\n",
        "train_dataset_smote = pd.concat([X_trainval_smote, y_trainval_smote],axis=1)\n",
        "train_dataset_smote.to_csv('fraud_trainset_smote_nodupe.csv',index=False)"
      ],
      "metadata": {
        "id": "-2ZtFdvIJRfG"
      },
      "execution_count": 10,
      "outputs": []
    }
  ]
}